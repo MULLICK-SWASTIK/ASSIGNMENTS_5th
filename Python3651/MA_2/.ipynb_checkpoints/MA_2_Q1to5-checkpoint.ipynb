{
 "cells": [
  {
   "cell_type": "code",
   "execution_count": 5,
   "id": "eb6fb6b9-74d8-41af-b660-270b6c6426ae",
   "metadata": {},
   "outputs": [
    {
     "name": "stdin",
     "output_type": "stream",
     "text": [
      "Is it raining?  Yes\n"
     ]
    },
    {
     "name": "stdout",
     "output_type": "stream",
     "text": [
      "Carry an umbrella\n"
     ]
    }
   ],
   "source": [
    "'''#Question-1: Write a program such that Python will ask you if it is raining or not. If your answer is ”yes”, Python\n",
    "will say ”Carry an umbrella”. If you type anything else, Python will say ”Bye”.'''\n",
    "\n",
    "inp=input(\"Is it raining? \")\n",
    "if inp.lower() == \"yes\":\n",
    "    print(\"Carry an umbrella\")\n",
    "else:\n",
    "    print(\"Bye\")"
   ]
  },
  {
   "cell_type": "code",
   "execution_count": 8,
   "id": "f2a47654-d9a3-4eca-8ff7-4dd797fe2b1a",
   "metadata": {},
   "outputs": [
    {
     "name": "stdin",
     "output_type": "stream",
     "text": [
      "Is it raining?  klasdfh\n"
     ]
    },
    {
     "name": "stdout",
     "output_type": "stream",
     "text": [
      "Bye\n"
     ]
    }
   ],
   "source": [
    "'''Question-2: Write a program such that Python will ask you if it is raining or not. If your answer is ”yes”, Python\n",
    "will say ”Carry an umbrella”. If you say ”no”, Python will say ”No need to carry an umbrella”. If\n",
    "you type anything else, Python will say ”Bye”.'''\n",
    "\n",
    "inp=input(\"Is it raining? \")\n",
    "if inp.lower() == \"yes\":\n",
    "    print(\"Carry an umbrella\")\n",
    "elif inp.lower() == \"no\":\n",
    "    print(\"No need to carry an umbrella\")\n",
    "else:\n",
    "    print(\"Bye\")"
   ]
  },
  {
   "cell_type": "code",
   "execution_count": 11,
   "id": "9a76e0ec-94d3-4d88-ab25-ae3a4f40a4d3",
   "metadata": {},
   "outputs": [
    {
     "name": "stdin",
     "output_type": "stream",
     "text": [
      "Enter marks:  59\n"
     ]
    },
    {
     "name": "stdout",
     "output_type": "stream",
     "text": [
      "Grade F, Failing\n"
     ]
    }
   ],
   "source": [
    "'''Question-3: Write a Python program to calculate a student’s letter grade based on their numeric score using the fol-\n",
    "lowing scale: A (90–100), B (80–89), C (70–79), D (60–69), and F (below 60). Additionally, provide\n",
    "a comment for each grade: ”Excellent” for A, ”Good” for B, ”Average” for C, ”Needs Improvement”\n",
    "for D, and ”Failing” for F.'''\n",
    "\n",
    "marks= int(input(\"Enter marks: \"))\n",
    "if marks in range(90,100):\n",
    "    print(\"Grade A, Excellent\")\n",
    "elif marks in range(80,90):\n",
    "    print(\"Grade B, Good\")\n",
    "elif marks in range(70,80):\n",
    "    print(\"Grade C, Average\")\n",
    "elif marks in range(60,70):\n",
    "    print(\"Grade D, Needs improvement\")\n",
    "else:\n",
    "    print(\"Grade F, Failing\")\n"
   ]
  },
  {
   "cell_type": "code",
   "execution_count": 12,
   "id": "549d1812-59a3-4823-a969-c3b0e5141e07",
   "metadata": {},
   "outputs": [
    {
     "name": "stdin",
     "output_type": "stream",
     "text": [
      "Enter number:  5\n"
     ]
    },
    {
     "name": "stdout",
     "output_type": "stream",
     "text": [
      "Given number is odd.\n"
     ]
    }
   ],
   "source": [
    "'''Question-4: Write a program that takes an integer input from the user and tells the user whether the number is\n",
    "even or odd.'''\n",
    "\n",
    "num=int(input(\"Enter number: \"))\n",
    "if num%2==0:\n",
    "    print(\"Given number is even.\")\n",
    "else:\n",
    "    print(\"Given number is odd.\")"
   ]
  },
  {
   "cell_type": "code",
   "execution_count": 14,
   "id": "55f5b107-e35a-4fa6-87dc-ca764f2ca8c2",
   "metadata": {},
   "outputs": [
    {
     "name": "stdin",
     "output_type": "stream",
     "text": [
      "Enter year:  2002\n"
     ]
    },
    {
     "name": "stdout",
     "output_type": "stream",
     "text": [
      "It's not a leap year.\n"
     ]
    }
   ],
   "source": [
    "'''Question-5: Write a program that takes a year as input and determines whether it is a leap year or not.'''\n",
    "\n",
    "year=int(input(\"Enter year: \"))\n",
    "if year%4==0 and (year%100!=0 or year%400==0):\n",
    "    print(\"It is a leap year.\")\n",
    "else:\n",
    "    print(\"It's not a leap year.\")"
   ]
  },
  {
   "cell_type": "code",
   "execution_count": null,
   "id": "7c6c2a74-2d54-4379-823c-459e54d6006e",
   "metadata": {},
   "outputs": [],
   "source": []
  }
 ],
 "metadata": {
  "kernelspec": {
   "display_name": "Python 3 (ipykernel)",
   "language": "python",
   "name": "python3"
  },
  "language_info": {
   "codemirror_mode": {
    "name": "ipython",
    "version": 3
   },
   "file_extension": ".py",
   "mimetype": "text/x-python",
   "name": "python",
   "nbconvert_exporter": "python",
   "pygments_lexer": "ipython3",
   "version": "3.11.7"
  }
 },
 "nbformat": 4,
 "nbformat_minor": 5
}
