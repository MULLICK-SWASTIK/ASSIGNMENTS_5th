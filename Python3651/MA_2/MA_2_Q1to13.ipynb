{
 "cells": [
  {
   "cell_type": "code",
   "execution_count": 21,
   "metadata": {},
   "outputs": [
    {
     "name": "stdout",
     "output_type": "stream",
     "text": [
      "Bye\n"
     ]
    }
   ],
   "source": [
    "\"\"\"Question-1: Write a program such that Python will ask you if it is raining or not. If your answer is ”yes”, Python\n",
    "will say ”Carry an umbrella”. If you type anything else, Python will say ”Bye”.\"\"\"\n",
    "\n",
    "rain = input(\"Is it raining? (yes/no)  \")\n",
    "if rain.lower() == \"yes\":\n",
    "    print(\"Carry an umbrella\")\n",
    "else:\n",
    "    print(\"Bye\")"
   ]
  },
  {
   "cell_type": "code",
   "execution_count": 22,
   "metadata": {},
   "outputs": [
    {
     "name": "stdout",
     "output_type": "stream",
     "text": [
      "No need to carry an umbrella\n"
     ]
    }
   ],
   "source": [
    "\"\"\"Question-2: Write a program such that Python will ask you if it is raining or not. If your answer is ”yes”, Python\n",
    "will say ”Carry an umbrella”. If you say ”no”, Python will say ”No need to carry an umbrella”. If\n",
    "you type anything else, Python will say ”Byefirst”.\"\"\"\n",
    "\n",
    "rain = input(\"Is it raining? (yes/no)  \")\n",
    "if rain.lower() == \"yes\":\n",
    "    print(\"Carry an umbrella\")\n",
    "elif rain.lower() == \"no\":\n",
    "    print(\"No need to carry an umbrella\")\n",
    "else:\n",
    "    print(\"Bye\")"
   ]
  },
  {
   "cell_type": "code",
   "execution_count": 1,
   "metadata": {},
   "outputs": [
    {
     "name": "stdout",
     "output_type": "stream",
     "text": [
      "Grade: D, Needs Improvement\n"
     ]
    }
   ],
   "source": [
    "\"\"\"Question-3: Write a Python program to calculate a student's letter grade based on their numeric score using the fol-\n",
    "lowing scale: A (90-100), B (80-89), C (70-79), D (60-69), and F (below 60). Additionally, provide\n",
    "a comment for each grade: ”Excellent” for A, ”Good” for B, ”Average” for C, ”Needs Improvement”\n",
    "for D, and ”Failing” for F.\"\"\"\n",
    "\n",
    "mark = int(input(\"Enter mark: \"))\n",
    "if mark >= 90 and mark <= 100:\n",
    "    print(\"Grade: A, Excellent\")\n",
    "elif mark >= 80:\n",
    "    print(\"Grade: B, Good\")\n",
    "elif mark >= 70:\n",
    "    print(\"Grade: C, Average\")\n",
    "elif mark >= 60:\n",
    "    print(\"Grade: D, Needs Improvement\")\n",
    "else:\n",
    "    print(\"Grade: E, Failing\")"
   ]
  },
  {
   "cell_type": "code",
   "execution_count": 15,
   "metadata": {},
   "outputs": [
    {
     "name": "stdout",
     "output_type": "stream",
     "text": [
      "6 is an even number\n"
     ]
    }
   ],
   "source": [
    "\"\"\"Question-4: Write a program that takes an integer input from the user and tells the user whether the number is\n",
    "even or odd.\"\"\"\n",
    "\n",
    "user_inp = int(input(\"Enter number: \"))\n",
    "if user_inp % 2 == 0:\n",
    "    print(f\"{user_inp} is an even number\")\n",
    "else:\n",
    "    print(f\"{user_inp} is an odd number\")"
   ]
  },
  {
   "cell_type": "code",
   "execution_count": 6,
   "metadata": {},
   "outputs": [
    {
     "name": "stdout",
     "output_type": "stream",
     "text": [
      "1980 is a leap year\n"
     ]
    }
   ],
   "source": [
    "\"\"\"Question-5: Write a program that takes a year as input and determines whether it is a leap year or not.\"\"\"\n",
    "\n",
    "year = int(input(\"Enter year: \"))\n",
    "if year % 4 == 0 and (year % 100 != 0 or year % 400 == 0):\n",
    "    print(f\"{year} is a leap year\")\n",
    "else:\n",
    "    print(f\"{year} is not a leap year\")"
   ]
  },
  {
   "cell_type": "code",
   "execution_count": 15,
   "metadata": {},
   "outputs": [
    {
     "name": "stdout",
     "output_type": "stream",
     "text": [
      "89 is a prime number\n"
     ]
    }
   ],
   "source": [
    "\"\"\"Question-6: Write a program that takes an integer input from the user and prints whether it is prime or not.\"\"\"\n",
    "\n",
    "import math as m\n",
    "\n",
    "num = int(input(\"Enter number: \"))\n",
    "if num <= 1:\n",
    "    if num < 1:\n",
    "        print(\"Integers less than 1 are not prime.\")\n",
    "    else:\n",
    "        print(\"1 is neither a prime nor composite.\")\n",
    "\n",
    "else:\n",
    "    for i in range(2, int(m.sqrt(num)) + 1):\n",
    "        if num % i == 0:\n",
    "            print(f\"{num} is not a prime number\")\n",
    "            break\n",
    "    else:\n",
    "        print(f\"{num} is a prime number\")"
   ]
  },
  {
   "cell_type": "code",
   "execution_count": 22,
   "metadata": {},
   "outputs": [
    {
     "name": "stdout",
     "output_type": "stream",
     "text": [
      "Sum: 1060\n"
     ]
    }
   ],
   "source": [
    "\"\"\"Question-7: In line with the previous question, write a program to compute the sum of all prime numbers below a\n",
    "user input number, e.g., Sum of all prime numbers less than 20 is 77.\"\"\"\n",
    "\n",
    "import math as m\n",
    "\n",
    "num = int(input(\"Enter number upto which sum of primes is required: \"))\n",
    "sum = 0\n",
    "if num <= 1:\n",
    "    print(f\"Sum: {sum}\")\n",
    "else:\n",
    "    for limit in range(2, num):\n",
    "        count = 0\n",
    "        for prime in range(2, int(m.sqrt(limit)) + 1):\n",
    "            if limit % prime == 0:\n",
    "                if prime == limit:\n",
    "                    continue\n",
    "                count += 1\n",
    "        if count == 0:\n",
    "            sum += limit\n",
    "            # print(f\"{limit}\", end=\" \")\n",
    "    print(f\"Sum: {sum}\")"
   ]
  },
  {
   "cell_type": "code",
   "execution_count": 27,
   "metadata": {},
   "outputs": [
    {
     "name": "stdout",
     "output_type": "stream",
     "text": [
      "-1 entered! Positive number required!\n",
      "0 entered! Positive number required!\n",
      "\n",
      "User input: 7\n",
      "Result: 7 ** 2 = 49\n"
     ]
    }
   ],
   "source": [
    "\"\"\"Question-8: Write a program that takes an integer input from the user. Use a while loop to continuously prompt\n",
    "for input until the user enters a positive number. If the final number is even, multiply it by 2 and if it\n",
    "is odd, square it. Display the results at the end.\"\"\"\n",
    "\n",
    "while True:\n",
    "    user_num = int(input(\"Enter a positive number: \"))\n",
    "    if not user_num <= 0:\n",
    "        break\n",
    "    print(f\"{user_num} entered! Positive number required!\")\n",
    "if user_num % 2 == 0:\n",
    "    print(f\"\\nUser input: {user_num}\\nResult: {user_num} * 2 = {user_num*2}\")\n",
    "else:\n",
    "    print(f\"\\nUser input: {user_num}\\nResult: {user_num} ** 2 = {user_num**2}\")"
   ]
  },
  {
   "cell_type": "code",
   "execution_count": 28,
   "metadata": {},
   "outputs": [
    {
     "name": "stdout",
     "output_type": "stream",
     "text": [
      "The remainder is 1\n"
     ]
    }
   ],
   "source": [
    "\"\"\"Question-9: Write a program to find the remainder when a user input number is divided by 5 using match case. If\n",
    "the user inputs a non-integer, Python should say ”Invalid input” and stop.\"\"\"\n",
    "\n",
    "try:\n",
    "    user_inp = int(input(\"Enter number: \"))\n",
    "    remainder = user_inp % 5\n",
    "    match remainder:\n",
    "        case 0:\n",
    "            print(\"The remainder is 0\")\n",
    "        case 1:\n",
    "            print(\"The remainder is 1\")\n",
    "        case 2:\n",
    "            print(\"The remainder is 2\")\n",
    "        case 3:\n",
    "            print(\"The remainder is 3\")\n",
    "        case 4:\n",
    "            print(\"The remainder is 4\")\n",
    "except ValueError:\n",
    "    print(\"Invalid input\")"
   ]
  },
  {
   "cell_type": "code",
   "execution_count": 31,
   "metadata": {},
   "outputs": [
    {
     "name": "stdout",
     "output_type": "stream",
     "text": [
      "1 12 123 1234 2 23 234 3 34 4 "
     ]
    }
   ],
   "source": [
    "\"\"\"Question-10: Write a program that takes a string as input and prints out all possible sub-strings of the string using\n",
    "loops, e.g., if the input is ”abc”, the output should be ”a”, ”ab”, ”abc”, ”b”, ”bc”, ”c”.\"\"\"\n",
    "\n",
    "user_input = input(\"Enter input: \")\n",
    "for i in range(len(user_input)):\n",
    "    for j in range(i + 1, len(user_input) + 1):\n",
    "        print(user_input[i:j], end=\" \")"
   ]
  },
  {
   "cell_type": "code",
   "execution_count": 4,
   "metadata": {},
   "outputs": [
    {
     "name": "stdout",
     "output_type": "stream",
     "text": [
      "Division by zero not allowed\n",
      "Exiting...\n"
     ]
    }
   ],
   "source": [
    "\"\"\"Question-11: Write a program that functions as a simple calculator. It should continuously accept a pair of numbers\n",
    "and an operator (+, -, *, /) from the user and print the result. If the user types ”exit,” the program\n",
    "quits. Otherwise the program continues asking for a pair of input numbers.\"\"\"\n",
    "\n",
    "while True:\n",
    "    opr = input(\"Choose an operator (+, -, *, /): \")\n",
    "    match opr.lower():\n",
    "        case \"+\":\n",
    "            num1 = float(input(\"Enter first number: \"))\n",
    "            num2 = float(input(\"Enter second number: \"))\n",
    "            print(f\"{num1} + {num2} = {num1 + num2}\")\n",
    "        case \"-\":\n",
    "            num1 = float(input(\"Enter first number: \"))\n",
    "            num2 = float(input(\"Enter second number: \"))\n",
    "            print(f\"{num1} - {num2} = {num1 - num2}\")\n",
    "        case \"*\":\n",
    "            num1 = float(input(\"Enter first number: \"))\n",
    "            num2 = float(input(\"Enter second number: \"))\n",
    "            print(f\"{num1} * {num2} = {num1 * num2}\")\n",
    "        case \"/\":\n",
    "            num1 = float(input(\"Enter first number: \"))\n",
    "            num2 = float(input(\"Enter second number: \"))\n",
    "            try:\n",
    "                print(f\"{num1} / {num2} = {num1 / num2}\")\n",
    "            except ZeroDivisionError:\n",
    "                print(\"Division by zero not allowed!\")\n",
    "        case opr if opr == \"exit\":\n",
    "            print(\"Exiting...\")\n",
    "            break\n",
    "        case _:\n",
    "            print(\"Invalid input!\")"
   ]
  },
  {
   "cell_type": "code",
   "execution_count": 4,
   "metadata": {},
   "outputs": [
    {
     "name": "stdout",
     "output_type": "stream",
     "text": [
      "[1, 2, 2, 3, 3, 4, 4, 4, 4, 5, 5, 6]\n",
      "Mode : 4\n"
     ]
    }
   ],
   "source": [
    "\"\"\"Question-12: Write a program to find out the mean, median, and mode of 1, 2, 3, 2, 3, 4, 4, 4, 5, 4, 5, 6.\"\"\"\n",
    "\n",
    "ls = [1, 2, 3, 2, 3, 4, 4, 4, 5, 4, 5, 6]\n",
    "choice = input(\n",
    "    \"\"\"list -> 1, 2, 3, 2, 3, 4, 4, 4, 5, 4, 5, 6\n",
    "1. Mean\n",
    "2. Median\n",
    "3. Mode\n",
    "Enter you choice: \"\"\"\n",
    ")\n",
    "ls.sort()\n",
    "print(ls)\n",
    "match choice.lower():\n",
    "    case \"1\" | \"mean\":\n",
    "        print(f\"Mean : {sum(ls)/len(ls): .2f}\")\n",
    "    case \"2\" | \"median\":\n",
    "        print(f\"Median : {ls[len(ls)//2]}\")\n",
    "    case \"3\" | \"mode\":\n",
    "        keys = [1, 2, 3, 4, 5, 6]\n",
    "        values = [0, 0, 0, 0, 0, 0]\n",
    "        for i in range(len(ls)):\n",
    "            if ls[i] in keys:\n",
    "                values[ls[i] - 1] += 1\n",
    "        print(f\"Mode : {values.index(max(values))+1}\")\n",
    "        # print(values)\n",
    "    case _:\n",
    "        print(\"Invalid choice!\")"
   ]
  },
  {
   "cell_type": "code",
   "execution_count": 10,
   "metadata": {},
   "outputs": [
    {
     "name": "stdout",
     "output_type": "stream",
     "text": [
      "The box is white.\n"
     ]
    }
   ],
   "source": [
    "\"\"\"Question-13: Positions on a chess board are identified by a letter and a number. The letter identifies the column,\n",
    "while the number identifies the row, as shown below in Figure 1:\n",
    "Write a program that reads a position from the user and identify the proper color of the respective\n",
    "box.\"\"\"\n",
    "\n",
    "read_col = ord(input(\"Enter the column (a to h): \"))\n",
    "read_row = int(input(\"Enter row (1 - 8): \"))\n",
    "classification = (read_col + read_row) % 2\n",
    "match classification:\n",
    "    case 0:\n",
    "        print(\"The box is white.\")\n",
    "    case 1:\n",
    "        print(\"The box is black.\")\n",
    "    case _:\n",
    "        print(\"Do you even play chess?! Try again!\")"
   ]
  },
  {
   "cell_type": "code",
   "execution_count": 3,
   "metadata": {},
   "outputs": [
    {
     "name": "stdout",
     "output_type": "stream",
     "text": [
      "Final booking cost: $540.00\n"
     ]
    }
   ],
   "source": [
    "\"\"\"Question-14: Write a Python program that calculates the final cost of a hotel booking based on the room type\n",
    "(Standard: $100/night, Deluxe: $150/night, Suite: $250/night), the length of stay (10% discount for\n",
    ">3 nights, 20% discount for >7 nights), the season (20% increase during peak season, 15% decrease\n",
    "during the off-season), and whether the customer is a loyalty member (5% additional discount). The\n",
    "program should output the final booking cost after applying all relevant discounts and adjustments.\"\"\"\n",
    "\n",
    "roomType = input(\n",
    "    \"Enter room type (Standard: $100/night, Deluxe: $150/night, Suite: $250/night): \"\n",
    ").lower()\n",
    "lengthOfStay = int(input(\"How long are you planning to stay? \"))\n",
    "season = input(\"Enter season (Peak/Off season): \").lower()\n",
    "loyaltyCustomer = input(\"Are you a loyalty member (Yes/No): \").lower()\n",
    "cost = 0\n",
    "match roomType:\n",
    "    case \"standard\":\n",
    "        cost += 100 * lengthOfStay\n",
    "    case \"deluxe\":\n",
    "        cost += 150 * lengthOfStay\n",
    "    case \"suite\":\n",
    "        cost += 250 * lengthOfStay\n",
    "    case _:\n",
    "        print(\"Invalid room entry! Try again!\")\n",
    "        exit()\n",
    "\n",
    "if lengthOfStay > 3 and lengthOfStay <= 7:\n",
    "    cost -= cost * 0.1\n",
    "elif lengthOfStay > 7:\n",
    "    cost -= cost * 0.2\n",
    "if season == \"peak\":\n",
    "    cost += cost * 0.2\n",
    "elif season == \"off season\":\n",
    "    cost -= cost * 0.15\n",
    "if loyaltyCustomer == \"yes\":\n",
    "    cost -= cost * 0.05\n",
    "\n",
    "print(f\"Final booking cost: ${cost:.2f}\")"
   ]
  },
  {
   "cell_type": "code",
   "execution_count": 23,
   "metadata": {},
   "outputs": [
    {
     "name": "stdout",
     "output_type": "stream",
     "text": [
      "8128 is a perfect number.\n"
     ]
    }
   ],
   "source": [
    "\"\"\"Question-15: Write a function to determine whether a given natural number is a perfect number. A natural number\n",
    "is said to be a perfect number if it is the sum of its divisors. For Example, 6 is a perfect number\n",
    "because 6 = 1+2+3, but 15 is not a perfect number because 15!= 1+3+5.\"\"\"\n",
    "\n",
    "num = int(input(\"Enter a number: \"))\n",
    "l = []\n",
    "for i in range(1, num):\n",
    "    if num % i == 0:\n",
    "        l.append(i)\n",
    "if num <= 1:\n",
    "    print(f\"{num} is not a perfect number\")\n",
    "elif sum(l) == num:\n",
    "    print(f\"{num} is a perfect number.\")\n",
    "else:\n",
    "    print(f\"{num} is not a perfect number.\")"
   ]
  },
  {
   "cell_type": "code",
   "execution_count": 43,
   "metadata": {},
   "outputs": [
    {
     "name": "stdout",
     "output_type": "stream",
     "text": [
      "Function a = -0.41587301587301595\n",
      "Function b = 7.0\n",
      "Function c = 5\n"
     ]
    }
   ],
   "source": [
    "\"\"\"Question-16: Write a function that finds the sum of the n terms of the following series:\n",
    "a) 1 -x2/2! + x4/4! -x6/6! + . . . + x2n/(2n)!\n",
    "b) 1 + x/1! + x2/2! + x3/3! + . . . + xn/n!\n",
    "c) 1-3+5-7+9-. . .\"\"\"\n",
    "\n",
    "\n",
    "def fact(n):\n",
    "    if type(n) is not int:\n",
    "        raise TypeError(\"Input must be an integer!\")\n",
    "    if n < 0:\n",
    "        return \"Cannot calculate factorial for negative integers!\"\n",
    "    if n == 0 or n == 1:\n",
    "        return 1\n",
    "    return n * fact(n - 1)\n",
    "\n",
    "\n",
    "x = int(input(\"Enter x: \"))\n",
    "n = int(input(\"Enter number of terms to be evaluated: \"))\n",
    "result1 = (x ** (2 * 0)) / fact(2 * 0)\n",
    "result2 = (x**0) / fact(0)\n",
    "result3 = 2 * 0 + 1\n",
    "s1 = -1\n",
    "for i in range(1, n + 1):\n",
    "    result2 += (x**i) / fact(i)\n",
    "    result3 += s1 * (2 * i + 1)\n",
    "    result1 += s1 * (x ** (2 * i)) / fact(2 * i)\n",
    "    s1 *= -1\n",
    "print(f\"Function a = {result1}\")\n",
    "print(f\"Function b = {result2}\")\n",
    "print(f\"Function c = {result3}\")"
   ]
  },
  {
   "cell_type": "code",
   "execution_count": null,
   "metadata": {},
   "outputs": [],
   "source": [
    "\"\"\"Question-17: Write a python program that displays all the numbers from 100 to 1,000, ten per line, that are divisible\n",
    "by 5 or 6. Numbers are separated by exactly one space.\"\"\"\n",
    "\n",
    "count = 0\n",
    "for i in range(100, 1001):\n",
    "    if i % 5 == 0 or i % 6 == 0:\n",
    "        print(i, end=\" \")\n",
    "        count += 1\n",
    "    if count == 10:\n",
    "        count = 0\n",
    "        print()"
   ]
  },
  {
   "cell_type": "code",
   "execution_count": 50,
   "metadata": {},
   "outputs": [
    {
     "name": "stdout",
     "output_type": "stream",
     "text": [
      "1  2  3  4  5  6  8  9  10  11  12  13  15  16  17  18  19  20  22  23  24  25  26  27  29  30  31  32  33  34  36  37  38  39  40  41  43  44  45  46  47  48  50  51  52  53  54  55  57  58  59  60  61  62  64  65  66  67  68  69  71  72  73  74  75  76  78  79  80  81  82  83  85  86  87  88  89  90  92  93  94  95  96  97  99  100  "
     ]
    }
   ],
   "source": [
    "\"\"\"Question-18: Write a Python program that prints all numbers from 1 to 100, except multiples of 7, using a for loop\n",
    "with continue.\"\"\"\n",
    "\n",
    "# count=0\n",
    "for i in range(1, 101):\n",
    "    if i % 7 == 0:\n",
    "        count += 1\n",
    "        continue\n",
    "    print(f\"{i}  \", end=\"\")\n",
    "# print(count)"
   ]
  },
  {
   "cell_type": "code",
   "execution_count": 52,
   "metadata": {},
   "outputs": [
    {
     "name": "stdout",
     "output_type": "stream",
     "text": [
      "Reverse of 3512164668 is 8664612153.\n"
     ]
    }
   ],
   "source": [
    "\"\"\"Question-19: Write a python program that accepts a positive integer n and reverses the order of its digits, e.g. 1234 becomes 4321.\"\"\"\n",
    "\n",
    "n = int(input(\"Enter an integer: \"))\n",
    "temp = n\n",
    "rev = 0\n",
    "while temp > 0:\n",
    "    rem = temp % 10\n",
    "    rev = rev * 10 + rem\n",
    "    temp = temp // 10\n",
    "print(f\"Reverse of {n} is {rev}.\")"
   ]
  },
  {
   "cell_type": "code",
   "execution_count": 61,
   "metadata": {},
   "outputs": [
    {
     "name": "stdout",
     "output_type": "stream",
     "text": [
      "2  2  2  3  5  "
     ]
    }
   ],
   "source": [
    "\"\"\"Question-20: Write a python program that reads an integer and displays all its smallest factors in increasing order,\n",
    "e.g., if the input integer is 120, the output should be as follows: 2, 2, 2, 3, 5.\"\"\"\n",
    "\n",
    "n = int(input(\"Enter an integer: \"))\n",
    "temp = n\n",
    "if n > 1:\n",
    "    divisor = 2\n",
    "    while temp > 1:\n",
    "        while temp % divisor == 0:\n",
    "            print(f\"{divisor}  \", end=\"\")\n",
    "            temp //= divisor\n",
    "        divisor += 1\n",
    "else:\n",
    "    print(\"Invalid input\")"
   ]
  },
  {
   "cell_type": "code",
   "execution_count": 14,
   "metadata": {},
   "outputs": [
    {
     "name": "stdout",
     "output_type": "stream",
     "text": [
      "3628800 is a factorial number.\n"
     ]
    }
   ],
   "source": [
    "\"\"\"Question-21: Write a python program to determine whether or not a number n is a factorial number.\"\"\"\n",
    "\n",
    "\n",
    "def fact(n):\n",
    "    if n == 0 or n == 1:\n",
    "        return 1\n",
    "    return n * fact(n - 1)\n",
    "\n",
    "\n",
    "n = int(input(\"Enter a number: \"))\n",
    "k = 0\n",
    "while fact(k) <= n:\n",
    "    if fact(k) == n:\n",
    "        print(f\"{n} is a factorial number.\")\n",
    "        break\n",
    "    k += 1\n",
    "if fact(k) > n:\n",
    "    print(f\"{n} is not a factorial number.\")"
   ]
  },
  {
   "cell_type": "code",
   "execution_count": 25,
   "metadata": {},
   "outputs": [
    {
     "name": "stdout",
     "output_type": "stream",
     "text": [
      "Single digit sum is 2\n"
     ]
    }
   ],
   "source": [
    "\"\"\"Question-22: Write a program that takes a number from the user and continuously sums its digits until the sum\n",
    "becomes a single-digit number.\"\"\"\n",
    "\n",
    "n = int(input(\"Enter a number: \"))\n",
    "temp = n\n",
    "while temp >= 10:\n",
    "    sum = 0\n",
    "    # t = temp\n",
    "    while temp > 0:\n",
    "        sum += temp % 10\n",
    "        temp //= 10\n",
    "    temp = sum\n",
    "print(f\"Single digit sum is {temp}\")"
   ]
  },
  {
   "cell_type": "code",
   "execution_count": 8,
   "metadata": {},
   "outputs": [
    {
     "name": "stdout",
     "output_type": "stream",
     "text": [
      "1 100 denomination notes.\n",
      "1 20 denomination notes.\n"
     ]
    }
   ],
   "source": [
    "\"\"\"Question-23: Write a program to simulate a simple ATM withdrawal system. The user can enter an amount they\n",
    "want to withdraw, and the program will provide the number of 100, 50, 20, and 10 denomination notes\n",
    "required to dispense that amount. The program should check if the requested amount is a multiple of\n",
    "10 and if the ATM has enough cash.\"\"\"\n",
    "\n",
    "availableAmount = int(input(\"Enter available amount in ATM: \"))\n",
    "withdrawAmount = int(input(\"Enter the amount to withdraw: \"))\n",
    "if withdrawAmount > availableAmount:\n",
    "    print(\"Insufficient amount in the ATM!\")\n",
    "elif withdrawAmount % 10 == 0 and withdrawAmount <= availableAmount:\n",
    "    if withdrawAmount >= 100:\n",
    "        print(f\"{withdrawAmount//100} 100 denomination notes.\")\n",
    "        withdrawAmount %= 100\n",
    "    if withdrawAmount >= 50:\n",
    "        print(f\"{withdrawAmount//50} 50 denomination notes.\")\n",
    "        withdrawAmount %= 50\n",
    "    if withdrawAmount >= 20:\n",
    "        print(f\"{withdrawAmount//20} 20 denomination notes.\")\n",
    "        withdrawAmount %= 20\n",
    "    if withdrawAmount >= 10:\n",
    "        print(f\"{withdrawAmount//10} 10 denomination notes.\")\n",
    "        withdrawAmount %= 10\n",
    "else:\n",
    "    print(\"Withdrawal amount should be a multiple of 10 !! Try again!\")"
   ]
  },
  {
   "cell_type": "code",
   "execution_count": 20,
   "metadata": {},
   "outputs": [
    {
     "name": "stdout",
     "output_type": "stream",
     "text": [
      "321870867\n",
      "THREE TWO ONE EIGHT SEVEN ZERO EIGHT SIX SEVEN "
     ]
    }
   ],
   "source": [
    "\"\"\"Question-24: Write a program that reads an integer from the user and checks which digits (0-9) have appeared in\n",
    "the number. The program should print out the digits that have appeared, e.g. input=1234, output=\n",
    "ONE TWO THREE FOUR\"\"\"\n",
    "\n",
    "\n",
    "def Match(n):\n",
    "    match n:\n",
    "        case 0:\n",
    "            return \"ZERO\"\n",
    "        case 1:\n",
    "            return \"ONE\"\n",
    "        case 2:\n",
    "            return \"TWO\"\n",
    "        case 3:\n",
    "            return \"THREE\"\n",
    "        case 4:\n",
    "            return \"FOUR\"\n",
    "        case 5:\n",
    "            return \"FIVE\"\n",
    "        case 6:\n",
    "            return \"SIX\"\n",
    "        case 7:\n",
    "            return \"SEVEN\"\n",
    "        case 8:\n",
    "            return \"EIGHT\"\n",
    "        case 9:\n",
    "            return \"NINE\"\n",
    "\n",
    "\n",
    "n = int(input(\"Enter a number: \"))\n",
    "print(n)\n",
    "temp = n\n",
    "rev = 0\n",
    "while temp > 0:\n",
    "    digit = temp % 10\n",
    "    rev = rev * 10 + digit\n",
    "    temp //= 10\n",
    "while rev > 0:\n",
    "    digit = rev % 10\n",
    "    print(f\"{Match(digit)} \", end=\"\")\n",
    "    rev //= 10"
   ]
  },
  {
   "cell_type": "code",
   "execution_count": 6,
   "metadata": {},
   "outputs": [
    {
     "name": "stdout",
     "output_type": "stream",
     "text": [
      "a.\n",
      "*\n",
      "**\n",
      "***\n",
      "****\n",
      "\n",
      "b.\n",
      "    *\n",
      "   **\n",
      "  ***\n",
      " ****\n",
      "\n",
      "c.\n",
      "****\n",
      " ***\n",
      "  **\n",
      "   *\n",
      "\n",
      "d.\n",
      "****\n",
      "***\n",
      "**\n",
      "*\n"
     ]
    }
   ],
   "source": [
    "\"\"\"Question-25: Write Python programs using loops to print the following patterns:\"\"\"\n",
    "\n",
    "print(\"a.\")\n",
    "for i in range(0, 4):\n",
    "    for j in range(0, i + 1):\n",
    "        print(\"*\", end=\"\")\n",
    "    print()\n",
    "\n",
    "print(\"\\nb.\")\n",
    "for i in range(0, 4):\n",
    "    for j in range(4, i, -1):\n",
    "        print(\" \", end=\"\")\n",
    "    for k in range(0, i + 1):\n",
    "        print(\"*\", end=\"\")\n",
    "    print()\n",
    "\n",
    "print(\"\\nc.\")\n",
    "for i in range(0, 4):\n",
    "    for j in range(0, 4):\n",
    "        if i <= j:\n",
    "            print(\"*\", end=\"\")\n",
    "        else:\n",
    "            print(\" \", end=\"\")\n",
    "    print()\n",
    "\n",
    "print(\"\\nd.\")\n",
    "for i in range(0, 4):\n",
    "    for j in range(4, i, -1):\n",
    "        if i <= j:\n",
    "            print(\"*\", end=\"\")\n",
    "        else:\n",
    "            print(\" \", end=\"\")\n",
    "    print()"
   ]
  },
  {
   "cell_type": "code",
   "execution_count": 7,
   "metadata": {},
   "outputs": [
    {
     "name": "stdout",
     "output_type": "stream",
     "text": [
      "e.\n",
      "* * * * \n",
      " * * * \n",
      "  * * \n",
      "   * \n",
      "\n",
      "f.\n",
      "      *       \n",
      "    * * *     \n",
      "  * * * * *   \n",
      "* * * * * * * \n",
      "  * * * * *   \n",
      "    * * *     \n",
      "      *       \n",
      "\n",
      "g.\n",
      "        *         \n",
      "      *   *       \n",
      "    *       *     \n",
      "  *           *   \n",
      "* * * * * * * * * \n"
     ]
    }
   ],
   "source": [
    "\"\"\"Question-25: ~Contd.\"\"\"\n",
    "\n",
    "print(\"e.\")\n",
    "for i in range(4):\n",
    "    for j in range(4):\n",
    "        if i <= j:\n",
    "            print(\"* \", end=\"\")\n",
    "        else:\n",
    "            print(\" \", end=\"\")\n",
    "    print()\n",
    "\n",
    "print(\"\\nf.\")\n",
    "for i in range(4):\n",
    "    for j in range(7):\n",
    "        if i + j >= 3 and j - i <= 3:\n",
    "            print(\"*\", end=\" \")\n",
    "        else:\n",
    "            print(\" \", end=\" \")\n",
    "    print()\n",
    "for i in range(3):\n",
    "    for j in range(7):\n",
    "        if i + j <= 5 and j - i >= 1:\n",
    "            print(\"*\", end=\" \")\n",
    "        else:\n",
    "            print(\" \", end=\" \")\n",
    "    print()\n",
    "\n",
    "print(\"\\ng.\")\n",
    "for i in range(5):\n",
    "    for j in range(9):\n",
    "        if i + j == 4 or i == 4 or j - i == 4:\n",
    "            print(\"*\", end=\" \")\n",
    "        else:\n",
    "            print(\" \", end=\" \")\n",
    "    print()"
   ]
  },
  {
   "cell_type": "code",
   "execution_count": 83,
   "metadata": {},
   "outputs": [
    {
     "name": "stdout",
     "output_type": "stream",
     "text": [
      "\n",
      "h.\n",
      "            *             \n",
      "         *    *          \n",
      "      *          *       \n",
      "   *                *    \n",
      "    *              *              \n",
      "        *      *                  \n",
      "            *                      \n",
      "\n",
      "i.\n",
      "*  *  *  *  *  \n",
      "*              *  \n",
      "*              *  \n",
      "*              *  \n",
      "*  *  *  *  *  \n",
      "\n",
      "j.\n",
      "0 1 2 3 4 5 \n",
      "0 1 2 3 4 \n",
      "0 1 2 3 \n",
      "0 1 2 \n",
      "0 1 \n",
      "0 \n"
     ]
    }
   ],
   "source": [
    "\"\"\"Question-25: ~Contd.\"\"\"\n",
    "\n",
    "print(\"\\nh.\")\n",
    "for i in range(4):\n",
    "    for j in range(9):\n",
    "        if i + j == 4 or j - i == 4:\n",
    "            print(\"*\", end=\" \")\n",
    "        else:\n",
    "            print(\"  \", end=\" \")\n",
    "    print()\n",
    "for i in range(3):\n",
    "    for j in range(9):\n",
    "        if j - i == 1 or i + j == 5:\n",
    "            print(\"* \", end=\" \")\n",
    "        else:\n",
    "            print(\"   \", end=\" \")\n",
    "    print()\n",
    "\n",
    "print(\"\\ni.\")\n",
    "for i in range(5):\n",
    "    for j in range(5):\n",
    "        if i == 0 or i == 4 or j == 0 or j == 4:\n",
    "            print(\"* \", end=\" \")\n",
    "        else:\n",
    "            print(\"   \", end=\" \")\n",
    "    print()\n",
    "\n",
    "print(\"\\nj.\")\n",
    "for i in range(6, 0, -1):\n",
    "    for j in range(0, 6):\n",
    "        if j == i:\n",
    "            break\n",
    "        print(j, end=\" \")\n",
    "    print()\n"
   ]
  },
  {
   "cell_type": "code",
   "execution_count": 96,
   "metadata": {},
   "outputs": [
    {
     "name": "stdout",
     "output_type": "stream",
     "text": [
      "\n",
      "k.\n",
      "1 \n",
      "3 3 \n",
      "5 5 5 \n",
      "7 7 7 7 \n",
      "9 9 9 9 9 \n",
      "\n",
      "l.\n",
      "1 \n",
      "2 1 \n",
      "3 2 1 \n",
      "4 3 2 1 \n",
      "5 4 3 2 1 \n",
      "\n",
      "m.\n",
      "1 \n",
      "2 4 \n",
      "3 6 9 \n",
      "4 8 12 16 \n",
      "5 10 15 20 25 \n"
     ]
    }
   ],
   "source": [
    "\"\"\"Question-25: ~Contd.\"\"\"\n",
    "\n",
    "print(\"\\nk.\")\n",
    "for i in range(1, 6):\n",
    "    for j in range(0, i):\n",
    "        print(2 * i - 1, end=\" \")\n",
    "    print()\n",
    "\n",
    "print(\"\\nl.\")\n",
    "for i in range(5):\n",
    "    for j in range(i+1,0,-1):\n",
    "        print(j, end=\" \")\n",
    "    print()\n",
    "\n",
    "print(\"\\nm.\")\n",
    "for i in range(1,6):\n",
    "    for j in range(1,i+1):\n",
    "        print(j*i, end=\" \")\n",
    "    print()"
   ]
  },
  {
   "cell_type": "code",
   "execution_count": 6,
   "metadata": {},
   "outputs": [
    {
     "name": "stdout",
     "output_type": "stream",
     "text": [
      "\n",
      "n.\n",
      "A \n",
      "B C \n",
      "D E F \n",
      "G H I J \n",
      "K L M N O \n",
      "P Q R S T U \n",
      "V W X Y Z [ \\ \n",
      "\n",
      "o.\n",
      "        1 \n",
      "      2 1 2 \n",
      "    3 2 1 2 3 \n",
      "  4 3 2 1 2 3 4 \n",
      "5 4 3 2 1 2 3 4 5 \n"
     ]
    }
   ],
   "source": [
    "\"\"\"Question-25: ~Contd.\"\"\"\n",
    "\n",
    "print(\"\\nn.\")\n",
    "key=65\n",
    "for i in range(7):\n",
    "    for j in range(i+1):\n",
    "        print(chr(key),end=\" \")\n",
    "        key+=1\n",
    "    print()\n",
    "\n",
    "print(\"\\no.\")\n",
    "for i in range(1,6):\n",
    "    for j in range(5,i,-1):\n",
    "        print(\" \", end=\" \")\n",
    "    for k in range(i,0,-1):\n",
    "        print(k, end=\" \")\n",
    "    for q in range(2, i+1):\n",
    "        print(q, end=\" \")\n",
    "    print()"
   ]
  },
  {
   "cell_type": "code",
   "execution_count": null,
   "metadata": {},
   "outputs": [],
   "source": []
  }
 ],
 "metadata": {
  "kernelspec": {
   "display_name": "Python 3",
   "language": "python",
   "name": "python3"
  },
  "language_info": {
   "codemirror_mode": {
    "name": "ipython",
    "version": 3
   },
   "file_extension": ".py",
   "mimetype": "text/x-python",
   "name": "python",
   "nbconvert_exporter": "python",
   "pygments_lexer": "ipython3",
   "version": "3.12.4"
  }
 },
 "nbformat": 4,
 "nbformat_minor": 4
}
