{
 "cells": [
  {
   "cell_type": "code",
   "execution_count": 21,
   "metadata": {},
   "outputs": [
    {
     "name": "stdout",
     "output_type": "stream",
     "text": [
      "Bye\n"
     ]
    }
   ],
   "source": [
    "\"\"\"Question-1: Write a program such that Python will ask you if it is raining or not. If your answer is ”yes”, Python\n",
    "will say ”Carry an umbrella”. If you type anything else, Python will say ”Bye”.\"\"\"\n",
    "\n",
    "rain = input(\"Is it raining? (yes/no)  \")\n",
    "if rain.lower() == \"yes\":\n",
    "    print(\"Carry an umbrella\")\n",
    "else:\n",
    "    print(\"Bye\")"
   ]
  },
  {
   "cell_type": "code",
   "execution_count": 22,
   "metadata": {},
   "outputs": [
    {
     "name": "stdout",
     "output_type": "stream",
     "text": [
      "No need to carry an umbrella\n"
     ]
    }
   ],
   "source": [
    "\"\"\"Question-2: Write a program such that Python will ask you if it is raining or not. If your answer is ”yes”, Python\n",
    "will say ”Carry an umbrella”. If you say ”no”, Python will say ”No need to carry an umbrella”. If\n",
    "you type anything else, Python will say ”Bye”.\"\"\"\n",
    "\n",
    "rain = input(\"Is it raining? (yes/no)  \")\n",
    "if rain.lower() == \"yes\":\n",
    "    print(\"Carry an umbrella\")\n",
    "elif rain.lower() == \"no\":\n",
    "    print(\"No need to carry an umbrella\")\n",
    "else:\n",
    "    print(\"Bye\")"
   ]
  },
  {
   "cell_type": "code",
   "execution_count": 19,
   "metadata": {},
   "outputs": [
    {
     "name": "stdout",
     "output_type": "stream",
     "text": [
      "Grade: A, Excellent\n"
     ]
    }
   ],
   "source": [
    "\"\"\"Question-3: Write a Python program to calculate a student's letter grade based on their numeric score using the fol-\n",
    "lowing scale: A (90-100), B (80-89), C (70-79), D (60-69), and F (below 60). Additionally, provide\n",
    "a comment for each grade: ”Excellent” for A, ”Good” for B, ”Average” for C, ”Needs Improvement”\n",
    "for D, and ”Failing” for F.\"\"\"\n",
    "\n",
    "mark = int(input(\"Enter mark: \"))\n",
    "if mark >= 90 and mark <= 100:\n",
    "    print(\"Grade: A, Excellent\")\n",
    "elif mark >= 80:\n",
    "    print(\"Grade: B, Good\")\n",
    "elif mark >= 70:\n",
    "    print(\"Grade: C, Average\")\n",
    "elif mark >= 60:\n",
    "    print(\"Grade: D, Needs Improvement\")\n",
    "else:\n",
    "    print(\"Grade: E, Failing\")"
   ]
  },
  {
   "cell_type": "code",
   "execution_count": 15,
   "metadata": {},
   "outputs": [
    {
     "name": "stdout",
     "output_type": "stream",
     "text": [
      "6 is an even number\n"
     ]
    }
   ],
   "source": [
    "\"\"\"Question-4: Write a program that takes an integer input from the user and tells the user whether the number is\n",
    "even or odd.\"\"\"\n",
    "\n",
    "user_inp = int(input(\"Enter number: \"))\n",
    "if user_inp % 2 == 0:\n",
    "    print(f\"{user_inp} is an even number\")\n",
    "else:\n",
    "    print(f\"{user_inp} is an odd number\")"
   ]
  },
  {
   "cell_type": "code",
   "execution_count": 13,
   "metadata": {},
   "outputs": [
    {
     "name": "stdout",
     "output_type": "stream",
     "text": [
      "2 is not a leap year\n"
     ]
    }
   ],
   "source": [
    "\"\"\"Question-5: Write a program that takes a year as input and determines whether it is a leap year or not.\"\"\"\n",
    "\n",
    "year = int(input(\"Enter year: \"))\n",
    "if year % 4 == 0 and (year % 100 != 0 or year % 400 == 0):\n",
    "    print(f\"{year} is a leap year\")\n",
    "else:\n",
    "    print(f\"{year} is not a leap year\")"
   ]
  },
  {
   "cell_type": "code",
   "execution_count": 23,
   "metadata": {},
   "outputs": [
    {
     "name": "stdout",
     "output_type": "stream",
     "text": [
      "104730 is not a prime number\n"
     ]
    }
   ],
   "source": [
    "\"\"\"Question-6: Write a program that takes an integer input from the user and prints whether it is prime or not.\"\"\"\n",
    "\n",
    "import math as m\n",
    "\n",
    "num = int(input(\"Enter number: \"))\n",
    "if num <= 1:\n",
    "    if num < 1:\n",
    "        print(\"Integers less than 1 are not prime.\")\n",
    "    else:\n",
    "        print(\"1 is neither a prime nor composite.\")\n",
    "\n",
    "else:\n",
    "    for i in range(2, int(m.sqrt(num)) + 1):\n",
    "        if num % i == 0:\n",
    "            print(f\"{num} is not a prime number\")\n",
    "            break\n",
    "    else:\n",
    "        print(f\"{num} is a prime number\")   "
   ]
  },
  {
   "cell_type": "code",
   "execution_count": 19,
   "metadata": {},
   "outputs": [
    {
     "name": "stdout",
     "output_type": "stream",
     "text": [
      "Sum: 1060\n"
     ]
    }
   ],
   "source": [
    "\"\"\"Question-7: In line with the previous question, write a program to compute the sum of all prime numbers below a\n",
    "user input number, e.g., Sum of all prime numbers less than 20 is 77.\"\"\"\n",
    "\n",
    "import math as m\n",
    "\n",
    "num = int(input(\"Enter number upto which sum of primes is required: \"))\n",
    "sum = 0\n",
    "if num <= 1:\n",
    "    print(\"Sum: 0\")\n",
    "else:\n",
    "    for limit in range(2, num):\n",
    "        count = 0\n",
    "        for prime in range(2, limit + 1):\n",
    "            if limit % prime == 0:\n",
    "                if prime == limit:\n",
    "                    continue\n",
    "                count += 1\n",
    "        if count == 0:\n",
    "            sum += limit\n",
    "            # print(f\"{limit}\", end=\" \")\n",
    "    print(f\"Sum: {sum}\")"
   ]
  },
  {
   "cell_type": "code",
   "execution_count": 30,
   "metadata": {},
   "outputs": [
    {
     "name": "stdout",
     "output_type": "stream",
     "text": [
      "\n",
      "User input: 3\n",
      "Result: 3 ** 2 = 9\n"
     ]
    }
   ],
   "source": [
    "\"\"\"Question-8: Write a program that takes an integer input from the user. Use a while loop to continuously prompt\n",
    "for input until the user enters a positive number. If the final number is even, multiply it by 2 and if it\n",
    "is odd, square it. Display the results at the end.\"\"\"\n",
    "\n",
    "while True:\n",
    "    user_num = int(input(\"Enter a positive number: \"))\n",
    "    if not user_num <= 0:\n",
    "        break\n",
    "    print(f\"{user_num} entered! Enter a positive number!\")\n",
    "if user_num % 2 == 0:\n",
    "    print(f\"\\nUser input: {user_num}\\nResult: {user_num} * 2 = {user_num*2}\")\n",
    "else:\n",
    "    print(f\"\\nUser input: {user_num}\\nResult: {user_num} ** 2 = {user_num**2}\")"
   ]
  },
  {
   "cell_type": "code",
   "execution_count": null,
   "metadata": {},
   "outputs": [],
   "source": [
    "\"\"\"Question-9: Write a program to find the remainder when a user input number is divided by 5 using match case. If\n",
    "the user inputs a non-integer, Python should say ”Invalid input” and stop.\"\"\"\n",
    "\n"
   ]
  }
 ],
 "metadata": {
  "kernelspec": {
   "display_name": "Python 3",
   "language": "python",
   "name": "python3"
  },
  "language_info": {
   "codemirror_mode": {
    "name": "ipython",
    "version": 3
   },
   "file_extension": ".py",
   "mimetype": "text/x-python",
   "name": "python",
   "nbconvert_exporter": "python",
   "pygments_lexer": "ipython3",
   "version": "3.12.4"
  }
 },
 "nbformat": 4,
 "nbformat_minor": 2
}
