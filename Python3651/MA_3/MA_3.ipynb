{
 "cells": [
  {
   "cell_type": "code",
   "execution_count": null,
   "id": "b4b620ab-5dc9-417b-8f75-f380f58da484",
   "metadata": {},
   "outputs": [],
   "source": [
    "'''Question-1: Write a Python function to find the first, second and third greatest digit in a number.\n",
    "Sample Number: 6328\n",
    "Expected Output: 8, 6, 3'''\n",
    "\n",
    "def greatNum(n):\n",
    "    temp=n\n",
    "    large=0\n",
    "    while temp>0:\n",
    "        num=temp%10\n",
    "        \n",
    "\n",
    "\n",
    "n=int(input(\"Enter a number: \"))\n",
    "greatNum(n)"
   ]
  }
 ],
 "metadata": {
  "kernelspec": {
   "display_name": "Python 3 (ipykernel)",
   "language": "python",
   "name": "python3"
  },
  "language_info": {
   "codemirror_mode": {
    "name": "ipython",
    "version": 3
   },
   "file_extension": ".py",
   "mimetype": "text/x-python",
   "name": "python",
   "nbconvert_exporter": "python",
   "pygments_lexer": "ipython3",
   "version": "3.11.7"
  }
 },
 "nbformat": 4,
 "nbformat_minor": 5
}
