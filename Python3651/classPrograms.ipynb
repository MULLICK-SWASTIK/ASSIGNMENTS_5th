{
 "cells": [
  {
   "cell_type": "code",
   "execution_count": 11,
   "id": "ea2d2527-8de0-4713-86e7-dcc0bdb36e96",
   "metadata": {},
   "outputs": [
    {
     "name": "stdout",
     "output_type": "stream",
     "text": [
      "Hello World!\n",
      "Wassup\n"
     ]
    }
   ],
   "source": [
    "print(\"Hello World!\")\n",
    "print(\"Wassup\")"
   ]
  },
  {
   "cell_type": "code",
   "execution_count": 6,
   "id": "99ce5274-bed5-4cfc-a3af-17c577e73cc1",
   "metadata": {
    "scrolled": true
   },
   "outputs": [
    {
     "name": "stdin",
     "output_type": "stream",
     "text": [
      "Enter x:  5\n"
     ]
    },
    {
     "name": "stdout",
     "output_type": "stream",
     "text": [
      "5 is greater than 0\n"
     ]
    }
   ],
   "source": [
    "x=int(input(\"Enter x: \"))\n",
    "if x>0:\n",
    "    print(f\"{x} is greater than 0\")\n",
    "else:\n",
    "    print(f\"{x} is not greater than 0\")"
   ]
  },
  {
   "cell_type": "code",
   "execution_count": 12,
   "id": "d4646001-403f-4892-982e-792246fe41a5",
   "metadata": {
    "scrolled": true
   },
   "outputs": [
    {
     "name": "stdin",
     "output_type": "stream",
     "text": [
      "Enter marks:  55\n"
     ]
    },
    {
     "name": "stdout",
     "output_type": "stream",
     "text": [
      "D\n"
     ]
    }
   ],
   "source": [
    "marks=int(input(\"Enter marks: \"))\n",
    "if marks >= 90 and marks <= 100:\n",
    "    print(\"A\")\n",
    "elif marks >= 70:\n",
    "    print(\"B\")\n",
    "elif marks >= 60:\n",
    "    print(\"C\")\n",
    "elif marks >= 50:\n",
    "    print(\"D\")\n",
    "else:\n",
    "    print(\"Fail\")"
   ]
  },
  {
   "cell_type": "code",
   "execution_count": 13,
   "id": "0057ef48-8df9-498d-ab37-8874f153180d",
   "metadata": {},
   "outputs": [
    {
     "name": "stdout",
     "output_type": "stream",
     "text": [
      "1 3 5 7 9 \n",
      "1 3 5 7 9 "
     ]
    }
   ],
   "source": [
    "for i in range(0,10):\n",
    "    if(i%2!=0): print(i,end=\" \")\n",
    "print()\n",
    "for i in range(1,11,2):\n",
    "    print(i,end=\" \")"
   ]
  },
  {
   "cell_type": "code",
   "execution_count": 17,
   "id": "ff9ebff2-9a38-4a53-b95a-5fbee312e86d",
   "metadata": {},
   "outputs": [
    {
     "name": "stdout",
     "output_type": "stream",
     "text": [
      "x is zero\n"
     ]
    }
   ],
   "source": [
    "x=0\n",
    "print(\"x is positive\" if x>0 else (\"x is zero\" if x==0 else \"x is negative\"))"
   ]
  },
  {
   "cell_type": "code",
   "execution_count": 5,
   "id": "e68cec70-247e-433d-8677-0bd8bbca617a",
   "metadata": {},
   "outputs": [
    {
     "name": "stdin",
     "output_type": "stream",
     "text": [
      "Enter first number:  2\n",
      "Enter second number:  981\n",
      "Enter third number:  -5\n"
     ]
    },
    {
     "name": "stdout",
     "output_type": "stream",
     "text": [
      "981.0 is largest\n"
     ]
    }
   ],
   "source": [
    "num1 = float(input(\"Enter first number: \"))\n",
    "num2 = float(input(\"Enter second number: \"))\n",
    "num3 = float(input(\"Enter third number: \"))\n",
    "# print(f\"Largest given input is {max(num1,num2,num3)}\")\n",
    "if num1>num2:\n",
    "    if num1>num3:\n",
    "        print(f\"{num1} is largest\")\n",
    "    else:\n",
    "        print(f\"{num3} is largest\")\n",
    "else:\n",
    "    if num2>num3:\n",
    "        print(f\"{num2} is largest\")\n",
    "    else:\n",
    "        print(f\"{num3} is largest\")\n"
   ]
  },
  {
   "cell_type": "code",
   "execution_count": 16,
   "id": "c7aace76-6038-4f88-852f-33f61c30e1f2",
   "metadata": {},
   "outputs": [
    {
     "name": "stdin",
     "output_type": "stream",
     "text": [
      "Enter number:  5\n"
     ]
    },
    {
     "name": "stdout",
     "output_type": "stream",
     "text": [
      "Diff case\n"
     ]
    }
   ],
   "source": [
    "a=int(input(\"Enter number: \"))\n",
    "match a:\n",
    "    case 1|2:\n",
    "        print(\"1 or 2\")\n",
    "    # case 2:\n",
    "    #     print(\"2\")\n",
    "    case 4|3:\n",
    "        print(\"3 or 4\")\n",
    "    case _:\n",
    "        print(\"Diff case\")"
   ]
  },
  {
   "cell_type": "code",
   "execution_count": 21,
   "id": "e6045319-4150-4d17-9683-7c35cd8996b4",
   "metadata": {},
   "outputs": [
    {
     "name": "stdin",
     "output_type": "stream",
     "text": [
      "Enter number:  0\n"
     ]
    },
    {
     "name": "stdout",
     "output_type": "stream",
     "text": [
      "Neither positive nor negative\n"
     ]
    }
   ],
   "source": [
    "a=int(input(\"Enter number: \"))\n",
    "match a:\n",
    "    case a if a>0:\n",
    "        print(\"+ve\")\n",
    "    case a if a<0:\n",
    "        print(\"-ve\")\n",
    "    case _:\n",
    "        print(\"Neither positive nor negative\")"
   ]
  },
  {
   "cell_type": "code",
   "execution_count": 25,
   "id": "5312bd25-f93b-477f-babf-7fada0540ba8",
   "metadata": {},
   "outputs": [
    {
     "name": "stdin",
     "output_type": "stream",
     "text": [
      "Enter string:  55555\n"
     ]
    },
    {
     "name": "stdout",
     "output_type": "stream",
     "text": [
      "Exactly 5 characters\n"
     ]
    }
   ],
   "source": [
    "inp=input(\"Enter string: \")\n",
    "match inp:\n",
    "    case inp if len(inp)<5:\n",
    "        print(\"String is too small\")\n",
    "    case inp if len(inp)>5:\n",
    "        print(\"String is too big\")\n",
    "    case _:\n",
    "        print(\"Exactly 5 characters\")"
   ]
  },
  {
   "cell_type": "code",
   "execution_count": 26,
   "id": "a3f407d1-8f94-4eed-91cd-7538598430d4",
   "metadata": {},
   "outputs": [
    {
     "name": "stdout",
     "output_type": "stream",
     "text": [
      "27\n",
      "19683\n",
      "End\n"
     ]
    }
   ],
   "source": [
    "x=3\n",
    "while x<=50:\n",
    "    print(x**3)\n",
    "    x**=3\n",
    "print(\"End\")"
   ]
  },
  {
   "cell_type": "code",
   "execution_count": 29,
   "id": "e51b6df0-4cc5-4e85-9c75-518d435cb3fb",
   "metadata": {},
   "outputs": [
    {
     "name": "stdin",
     "output_type": "stream",
     "text": [
      "Enter grade student0:  23\n",
      "Enter grade student1:  65\n",
      "Enter grade student2:  4\n",
      "Enter grade student3:  14\n",
      "Enter grade student4:  84\n",
      "Enter grade student5:  68\n",
      "Enter grade student6:  18\n",
      "Enter grade student7:  64\n",
      "Enter grade student8:  67\n",
      "Enter grade student9:  18\n"
     ]
    },
    {
     "name": "stdout",
     "output_type": "stream",
     "text": [
      "Average: 42.5\n"
     ]
    }
   ],
   "source": [
    "grade=[]\n",
    "summation=0\n",
    "for i in range(10):\n",
    "    grade.append(int(input(f\"Enter grade student{i+1}: \")))\n",
    "    summation+=grade[i]\n",
    "print(f\"Average: {summation/len(grade)}\")\n"
   ]
  },
  {
   "cell_type": "code",
   "execution_count": 35,
   "id": "5c06d083-c0a7-44d0-ba3d-36e62a574a02",
   "metadata": {},
   "outputs": [
    {
     "name": "stdin",
     "output_type": "stream",
     "text": [
      "Enter number:  -1\n"
     ]
    },
    {
     "name": "stdout",
     "output_type": "stream",
     "text": [
      "Invalid\n"
     ]
    }
   ],
   "source": [
    "summ,count=0,0\n",
    "while True:\n",
    "    inp=int(input(\"Enter number: \"))\n",
    "    if inp==-1:\n",
    "        break\n",
    "    summ+=inp\n",
    "    count+=1\n",
    "if count!=0:\n",
    "    print(f\"Average of total input-5s upto -1 is {summ/count}\")\n",
    "else:\n",
    "    print(\"Invalid\")"
   ]
  },
  {
   "cell_type": "code",
   "execution_count": 45,
   "id": "a0beb43e-3d29-43d2-a2bb-257ae75c1c2c",
   "metadata": {},
   "outputs": [
    {
     "name": "stdin",
     "output_type": "stream",
     "text": [
      "Enter number -1\n"
     ]
    },
    {
     "name": "stdout",
     "output_type": "stream",
     "text": [
      "Invalid!\n"
     ]
    }
   ],
   "source": [
    "try:\n",
    "    a=int(input(\"Enter number\"))\n",
    "    assert 0<=a<=100, \"Enter a positive number\"\n",
    "    print(f\"{a}\")\n",
    "except AssertionError:\n",
    "    print(\"Invalid!\")"
   ]
  },
  {
   "cell_type": "code",
   "execution_count": null,
   "id": "4810bad3-60db-4ae6-b5ef-dd927d1f2619",
   "metadata": {},
   "outputs": [],
   "source": []
  }
 ],
 "metadata": {
  "kernelspec": {
   "display_name": "Python 3 (ipykernel)",
   "language": "python",
   "name": "python3"
  },
  "language_info": {
   "codemirror_mode": {
    "name": "ipython",
    "version": 3
   },
   "file_extension": ".py",
   "mimetype": "text/x-python",
   "name": "python",
   "nbconvert_exporter": "python",
   "pygments_lexer": "ipython3",
   "version": "3.11.7"
  }
 },
 "nbformat": 4,
 "nbformat_minor": 5
}
